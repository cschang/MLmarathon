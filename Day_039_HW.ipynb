{
 "cells": [ 
  {
   "cell_type": "markdown",
   "metadata": {},
   "source": [
    "## 作業"
   ]
  },
  {
   "cell_type": "markdown",
   "metadata": {},
   "source": [
    "請閱讀相關文獻，並回答下列問題\n",
    "\n",
    "[脊回歸 (Ridge Regression)](https://blog.csdn.net/daunxx/article/details/51578787)\n",
    "[Linear, Ridge, Lasso Regression 本質區別](https://www.zhihu.com/question/38121173)\n",
    "\n",
    "1. LASSO 回歸可以被用來作為 Feature selection 的工具，請了解 LASSO 模型為什麼可用來作 Feature selection\n",
    "2. 當自變數 (X) 存在高度共線性時，Ridge Regression 可以處理這樣的問題嗎?\n"
   ]
  },
  {
   "cell_type": "markdown",
   "metadata": {},
   "source": [
    "LASSO 回歸可以被用來作為 Feature selection 的工具，請了解 LASSO 模型為什麼可用來作 Feature selection\n",
    "LASSO, least absolute shrinkage and selection operator，又譯最小絕對值收斂和選擇算子、套索算法. \n",
    "在機器學習和統計學中，特徵選擇（英語：feature selection）也被稱為變量選擇、屬性選擇 或變量子集選擇 。它是指：為了構建模型而選擇相關特徵（即屬性、指標）子集的過程。使用特徵選擇技術有三個原因：\n",
    "\n",
    "1. 簡化模型，使之更易於被研究人員或用戶理解，\n",
    "2. 縮短訓練時間，\n",
    "3. 改善通用性、降低過擬合[2]（即降低方差 [1] ）\n",
    "\n",
    "特徵選擇算法分為三類：包裝類、過濾類和嵌入類方法\n",
    "嵌入類方法包括了所有構建模型過程中用到的特徵選擇技術。這類方法的典範是構建線性模型的 LASSO 方法\n",
    "該方法給回歸係數加入了 L1 懲罰，導致其中的許多參數趨於零。任何回歸係數不為零的特徵都會被 LASSO 算法「選中」。\n",
    "https://rpubs.com/skydome20/R-Note18-Subsets_Shrinkage_Methods\n",
    "\n",
    "當自變數 (X) 存在高度共線性時，Ridge Regression 可以處理這樣的問題嗎？YES"
   ]
  }
 ],
 "metadata": {
  "kernelspec": {
   "display_name": "Python 3",
   "language": "python",
   "name": "python3"
  },
  "language_info": {
   "codemirror_mode": {
    "name": "ipython",
    "version": 3
   },
   "file_extension": ".py",
   "mimetype": "text/x-python",
   "name": "python",
   "nbconvert_exporter": "python",
   "pygments_lexer": "ipython3",
   "version": "3.7.1"
  }
 },
 "nbformat": 4,
 "nbformat_minor": 2
}
